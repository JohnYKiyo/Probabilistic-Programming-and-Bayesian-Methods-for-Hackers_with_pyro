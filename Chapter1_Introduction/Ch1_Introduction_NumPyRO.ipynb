{
 "cells": [
  {
   "cell_type": "code",
   "execution_count": 1,
   "metadata": {},
   "outputs": [],
   "source": [
    "import numpyro\n",
    "import numpyro.distributions as dist\n",
    "from numpyro import handlers\n",
    "from numpyro.infer import MCMC, NUTS\n",
    "\n",
    "import jax.numpy as jnp\n",
    "from jax import random, vmap, grad, jit\n",
    "from jax.ops import index, index_add, index_update\n",
    "import pandas as pd\n",
    "import matplotlib.pyplot as plt\n",
    "plt.style.use(\"seaborn\")"
   ]
  },
  {
   "cell_type": "code",
   "execution_count": 2,
   "metadata": {},
   "outputs": [],
   "source": [
    "data = pd.read_csv('./data/txtdata.csv',header=None).rename(columns={0:'msg'})"
   ]
  },
  {
   "cell_type": "code",
   "execution_count": 3,
   "metadata": {},
   "outputs": [
    {
     "data": {
      "text/plain": [
       "(0, 74)"
      ]
     },
     "execution_count": 3,
     "metadata": {},
     "output_type": "execute_result"
    },
    {
     "data": {
      "image/png": "[encoded data removed]",
      "text/plain": [
       "<Figure size 576x396 with 1 Axes>"
      ]
     },
     "metadata": {},
     "output_type": "display_data"
    }
   ],
   "source": [
    "plt.bar(jnp.arange(len(data)),data.msg)\n",
    "plt.ylabel(\"Text messages recieved\")\n",
    "plt.xlabel(\"Time(days)\")\n",
    "plt.xlim(0,len(data))"
   ]
  },
  {
   "cell_type": "markdown",
   "metadata": {},
   "source": [
    "変化点はあるだろうか？    \n",
    "変化点を見つけるためにベイズ的にモデリングをしようと思う。   \n",
    "まず、1日あたりに受信するメッセージの分布がある時を境に変化したと考える。   "
   ]
  },
  {
   "cell_type": "code",
   "execution_count": 4,
   "metadata": {},
   "outputs": [],
   "source": [
    "def model(data):\n",
    "    alpha = (1. / data.mean())\n",
    "    lambda1 = numpyro.sample(\"lambda1\", dist.Exponential(rate=alpha))\n",
    "    lambda2 = numpyro.sample(\"lambda2\", dist.Exponential(rate=alpha))\n",
    "    tau = numpyro.sample(\"tau\", dist.Uniform(0,len(data)))\n",
    "    out = jnp.where(jnp.arange(0,len(data))<tau,lambda1,lambda2)\n",
    "    obs = numpyro.sample(\"obs\",dist.Poisson(out),obs=data)\n",
    "    \n",
    "def guide(data):\n",
    "    numpyro.sample(\"tau\", dist.Categorical(jnp.full(n_count_data,1/n_count_data)))\n",
    "\n",
    "    m1 = numpyro.param(\"m1\", jnp.array(0.0))\n",
    "    s1 = numpyro.param(\"s1\", jnp.array(1.0))\n",
    "    numpyro.sample(\"lambda_1\", dist.Normal(m1, s1))\n",
    "    m2 = numpyro.param(\"m2\", jnp.array(0.0))\n",
    "    s2 = numpyro.param(\"s2\", jnp.array(1.0))\n",
    "    numpyro.sample(\"lambda_2\", dist.Normal(m2, s2))\n",
    "    "
   ]
  },
  {
   "cell_type": "code",
   "execution_count": 5,
   "metadata": {},
   "outputs": [
    {
     "name": "stderr",
     "output_type": "stream",
     "text": [
      "sample: 100%|██████████| 3000/3000 [00:09<00:00, 326.92it/s, 1023 steps of size 4.42e-04. acc. prob=0.96]\n"
     ]
    }
   ],
   "source": [
    "rng_key = random.PRNGKey(0)\n",
    "rng_key, rng_key_ = random.split(rng_key)\n",
    "num_warmup, num_samples = 1000, 2000\n",
    "\n",
    "# Run NUTS.\n",
    "kernel = NUTS(model)\n",
    "mcmc = MCMC(kernel, num_warmup=num_warmup, num_samples=num_samples)\n",
    "mcmc.run(rng_key_,data=data.msg.values)"
   ]
  },
  {
   "cell_type": "code",
   "execution_count": 6,
   "metadata": {},
   "outputs": [
    {
     "name": "stdout",
     "output_type": "stream",
     "text": [
      "\n",
      "                mean       std    median      5.0%     95.0%     n_eff     r_hat\n",
      "   lambda1     17.58      0.54     17.58     16.61     18.37     38.61      1.01\n",
      "   lambda2     22.76      0.89     22.77     21.17     24.13     29.95      1.04\n",
      "       tau     43.80      1.00     44.08     42.19     45.00      9.78      1.18\n",
      "\n",
      "Number of divergences: 0\n"
     ]
    }
   ],
   "source": [
    "mcmc.print_summary()"
   ]
  },
  {
   "cell_type": "code",
   "execution_count": 7,
   "metadata": {},
   "outputs": [],
   "source": [
    "samples = mcmc.get_samples()\n",
    "N = samples['tau'].shape[0]\n",
    "expected_texts_per_day = jnp.zeros(len(data))\n",
    "for day in range(0, len(data)):\n",
    "    ix = samples['tau'] > day\n",
    "    expected_texts_per_day = index_update(expected_texts_per_day,\n",
    "                                          index[day],\n",
    "                                          (samples['lambda1'][ix].sum()+ samples['lambda2'][~ix].sum()) / N)"
   ]
  },
  {
   "cell_type": "code",
   "execution_count": 8,
   "metadata": {},
   "outputs": [
    {
     "data": {
      "text/plain": [
       "<BarContainer object of 74 artists>"
      ]
     },
     "execution_count": 8,
     "metadata": {},
     "output_type": "execute_result"
    },
    {
     "data": {
      "image/png": "[encoded data removed]",
      "text/plain": [
       "<Figure size 576x396 with 4 Axes>"
      ]
     },
     "metadata": {},
     "output_type": "display_data"
    }
   ],
   "source": [
    "fig = plt.figure()\n",
    "ax = fig.add_subplot(221)\n",
    "ax.hist(mcmc.get_samples()['tau'])\n",
    "ax = fig.add_subplot(222)\n",
    "ax.hist(mcmc.get_samples()['lambda1'])\n",
    "ax = fig.add_subplot(223)\n",
    "ax.hist(mcmc.get_samples()['lambda2'])\n",
    "ax = fig.add_subplot(224)\n",
    "ax.plot(jnp.arange(0,len(data),1), expected_texts_per_day, lw=2, color=\"#E24A33\",\n",
    "         label=\"expected number of text-messages received\")\n",
    "plt.bar(jnp.arange(len(data)),data.msg.values)"
   ]
  }
 ],
 "metadata": {
  "kernelspec": {
   "display_name": "Python 3",
   "language": "python",
   "name": "python3"
  },
  "language_info": {
   "codemirror_mode": {
    "name": "ipython",
    "version": 3
   },
   "file_extension": ".py",
   "mimetype": "text/x-python",
   "name": "python",
   "nbconvert_exporter": "python",
   "pygments_lexer": "ipython3",
   "version": "3.7.0"
  }
 },
 "nbformat": 4,
 "nbformat_minor": 4
}
