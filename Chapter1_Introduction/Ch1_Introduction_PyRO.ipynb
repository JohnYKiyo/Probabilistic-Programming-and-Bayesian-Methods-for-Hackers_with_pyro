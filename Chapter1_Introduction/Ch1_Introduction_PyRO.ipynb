{
 "cells": [
  {
   "cell_type": "code",
   "execution_count": 1,
   "metadata": {},
   "outputs": [],
   "source": [
    "import torch\n",
    "import torch.distributions.constraints as constraints\n",
    "import pyro\n",
    "import pyro.distributions as dist\n",
    "from pyro.infer.mcmc import MCMC, NUTS, HMC\n",
    "from pyro.optim import Adam\n",
    "from pyro.infer import EmpiricalMarginal, TracePredictive, SVI, Trace_ELBO\n",
    "\n",
    "import numpy as np\n",
    "import matplotlib.pyplot as plt\n",
    "\n",
    "plt.style.use(\"seaborn\")"
   ]
  },
  {
   "cell_type": "code",
   "execution_count": 2,
   "metadata": {},
   "outputs": [],
   "source": [
    "count_data = torch.tensor(np.loadtxt(\"./data/txtdata.csv\"))\n",
    "n_count_data = len(count_data)"
   ]
  },
  {
   "cell_type": "code",
   "execution_count": 3,
   "metadata": {},
   "outputs": [
    {
     "data": {
      "text/plain": [
       "(0, 74)"
      ]
     },
     "execution_count": 3,
     "metadata": {},
     "output_type": "execute_result"
    },
    {
     "data": {
      "image/png": "[encoded data removed]",
      "text/plain": [
       "<Figure size 576x396 with 1 Axes>"
      ]
     },
     "metadata": {},
     "output_type": "display_data"
    }
   ],
   "source": [
    "plt.bar(np.arange(n_count_data),count_data)\n",
    "plt.ylabel(\"Text messages recieved\")\n",
    "plt.xlabel(\"Time(days)\")\n",
    "plt.xlim(0,n_count_data)"
   ]
  },
  {
   "cell_type": "markdown",
   "metadata": {},
   "source": [
    "変化点はあるだろうか？    \n",
    "変化点を見つけるためにベイズ的にモデリングをしようと思う。   \n",
    "まず、1日あたりに受信するメッセージの分布がある時を境に変化したと考える。   "
   ]
  },
  {
   "cell_type": "code",
   "execution_count": 4,
   "metadata": {},
   "outputs": [],
   "source": [
    "def lambda_(tau, lambda1, lambda2):\n",
    "    out = torch.zeros(n_count_data)\n",
    "    index = int(tau.data.numpy())\n",
    "    out[:index] = lambda1\n",
    "    out[index:] = lambda2\n",
    "    return out\n",
    "\n",
    "def model(data):\n",
    "    data = count_data.clone()\n",
    "    alpha = (1. / data.mean())\n",
    "    lambda1 = pyro.sample(\"lambda1\", dist.Exponential(rate=alpha))\n",
    "    lambda2 = pyro.sample(\"lambda2\", dist.Exponential(rate=alpha))\n",
    "#     tau = pyro.sample(\"tau\", dist.Uniform(0, 1))\n",
    "#     lambda1_size = int(tau.item() * data.size(0)) + 1\n",
    "#     lambda2_size = data.size(0) - lambda1_size\n",
    "#     lambda_ = torch.cat([lambda1.expand((lambda1_size,)), lambda2.expand((lambda2_size,))])\n",
    "    tau = pyro.sample(\"tau\", dist.Uniform(0,n_count_data))\n",
    "#     lambda_ = torch.cat([lambda1.expand([tau.item()]),\n",
    "#                          lambda2.expand([n_count_data-tau.item()])])\n",
    "# #     ##for NUTS##\n",
    "    obs = pyro.sample(\"obs\",dist.Poisson(lambda_(tau,lambda1,lambda2)),obs=data)\n",
    "    return obs\n",
    "    \n",
    "    ##ELBO##\n",
    "#     for i in range(len(data)):\n",
    "#         pyro.sample(\"obs_{}\".format(i), \n",
    "#                          dist.Poisson(lambda_[i]),obs=data[i])\n",
    "# #     with pyro.plate(\"data_plate\", len(data)):\n",
    "#         pyro.sample(\"obs\", dist.Poisson(lambda_))\n",
    "    \n",
    "#     lambda_ = torch.gather(torch.tensor([lambda1, lambda2]), 0,\n",
    "#               (tau <= torch.arange(len(data)).float()).long())\n",
    "#     lambda_ = torch.gather(torch.tensor([lambda1, lambda2]), 0,\n",
    "#                            tau <= torch.arange(len(data)))\n",
    "#     for i in range(len(data)):\n",
    "#         if (i < tau.data.numpy()[0]):\n",
    "#             pyro.observe(\"obs_{0}\".format(i), dist.Poisson(lambda1), obs=data[i])\n",
    "#         else:\n",
    "#             pyro.sample(\"obs_{0}\".format(i), dist.Poisson(lambda2), obs=data[i]) \n",
    "#     with pyro.plate(\"data_plate\", len(data)):\n",
    "# #         pyro.sample(\"obs\", dist.Poisson(lambda_),obs=data)\n",
    "# #         \n",
    "        \n",
    "def guide(data):\n",
    "    pyro.sample(\"tau\", dist.Categorical(torch.tensor(np.full(n_count_data,1/n_count_data))))\n",
    "\n",
    "    m1 = pyro.param(\"m1\", torch.tensor(0.0))\n",
    "    s1 = pyro.param(\"s1\", torch.tensor(1.0),\n",
    "                      constraint=constraints.positive)\n",
    "    pyro.sample(\"lambda_1\", dist.Normal(m1, s1))\n",
    "    m2 = pyro.param(\"m2\", torch.tensor(0.0))\n",
    "    s2 = pyro.param(\"s2\", torch.tensor(1.0),\n",
    "                      constraint=constraints.positive)\n",
    "    pyro.sample(\"lambda_2\", dist.Normal(m2, s2))\n",
    "    \n",
    "#     m3 = pyro.param(\"m3\", torch.tensor(0.0))\n",
    "#     s3 = pyro.param(\"s3\", torch.tensor(1.0),\n",
    "#                       constraint=constraints.positive)\n",
    "#     pyro.sample(\"tau\", dist.Normal(m3, s3))"
   ]
  },
  {
   "cell_type": "code",
   "execution_count": 5,
   "metadata": {},
   "outputs": [
    {
     "name": "stderr",
     "output_type": "stream",
     "text": [
      "Sample: 100%|██████████| 700/700 [13:59,  1.20s/it, step size=7.87e-03, acc. prob=0.560]\n"
     ]
    }
   ],
   "source": [
    "pyro.clear_param_store()\n",
    "nuts_kernel = NUTS(model, adapt_step_size=True)\n",
    "mcmc_run = MCMC(nuts_kernel, num_samples=600, warmup_steps=100)\n",
    "mcmc_run.run(count_data)"
   ]
  },
  {
   "cell_type": "code",
   "execution_count": 6,
   "metadata": {},
   "outputs": [
    {
     "name": "stdout",
     "output_type": "stream",
     "text": [
      "\n",
      "                mean       std    median      5.0%     95.0%     n_eff     r_hat\n",
      "   lambda1     20.09      0.49     20.08     19.17     20.81    127.75      1.01\n",
      "   lambda2     13.99      2.34     13.59     10.26     16.92     93.84      1.01\n",
      "       tau     70.56      0.62     70.53     70.00     70.98     81.56      1.01\n",
      "\n",
      "Number of divergences: 0\n"
     ]
    }
   ],
   "source": [
    "mcmc_run.summary()"
   ]
  },
  {
   "cell_type": "code",
   "execution_count": 7,
   "metadata": {},
   "outputs": [],
   "source": [
    "tau_samples = mcmc_run.get_samples()['tau']\n",
    "lambda1_samples = mcmc_run.get_samples()['lambda1']\n",
    "lambda2_samples = mcmc_run.get_samples()['lambda2']\n",
    "N = tau_samples.shape[0]\n",
    "expected_texts_per_day = np.zeros(n_count_data)\n",
    "for day in range(0, n_count_data):\n",
    "    ix = tau_samples > day\n",
    "    expected_texts_per_day[day] = (lambda1_samples[ix].sum()+ lambda2_samples[~ix].sum()) / N"
   ]
  },
  {
   "cell_type": "code",
   "execution_count": 8,
   "metadata": {},
   "outputs": [
    {
     "data": {
      "text/plain": [
       "<BarContainer object of 74 artists>"
      ]
     },
     "execution_count": 8,
     "metadata": {},
     "output_type": "execute_result"
    },
    {
     "data": {
      "image/png": "[encoded data removed]",
      "text/plain": [
       "<Figure size 576x396 with 4 Axes>"
      ]
     },
     "metadata": {},
     "output_type": "display_data"
    }
   ],
   "source": [
    "fig = plt.figure()\n",
    "ax = fig.add_subplot(221)\n",
    "ax.hist(mcmc_run.get_samples()['tau'])\n",
    "ax = fig.add_subplot(222)\n",
    "ax.hist(mcmc_run.get_samples()['lambda1'])\n",
    "ax = fig.add_subplot(223)\n",
    "ax.hist(mcmc_run.get_samples()['lambda2'])\n",
    "ax = fig.add_subplot(224)\n",
    "ax.plot(np.arange(0,n_count_data,1), expected_texts_per_day, lw=2, color=\"#E24A33\",\n",
    "         label=\"expected number of text-messages received\")\n",
    "plt.bar(np.arange(n_count_data),count_data)"
   ]
  },
  {
   "cell_type": "code",
   "execution_count": null,
   "metadata": {},
   "outputs": [],
   "source": []
  }
 ],
 "metadata": {
  "kernelspec": {
   "display_name": "Python 3",
   "language": "python",
   "name": "python3"
  },
  "language_info": {
   "codemirror_mode": {
    "name": "ipython",
    "version": 3
   },
   "file_extension": ".py",
   "mimetype": "text/x-python",
   "name": "python",
   "nbconvert_exporter": "python",
   "pygments_lexer": "ipython3",
   "version": "3.7.0"
  }
 },
 "nbformat": 4,
 "nbformat_minor": 4
}
